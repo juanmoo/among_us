{
 "cells": [
  {
   "cell_type": "code",
   "execution_count": 4,
   "metadata": {},
   "outputs": [
    {
     "ename": "ModuleNotFoundError",
     "evalue": "No module named 'pytorch'",
     "output_type": "error",
     "traceback": [
      "\u001b[0;31m---------------------------------------------------------------------------\u001b[0m",
      "\u001b[0;31mModuleNotFoundError\u001b[0m                       Traceback (most recent call last)",
      "\u001b[0;32m<ipython-input-4-fd7377d8ec00>\u001b[0m in \u001b[0;36m<module>\u001b[0;34m\u001b[0m\n\u001b[1;32m      1\u001b[0m \u001b[0;32mimport\u001b[0m \u001b[0mnumpy\u001b[0m \u001b[0;32mas\u001b[0m \u001b[0mnp\u001b[0m\u001b[0;34m\u001b[0m\u001b[0;34m\u001b[0m\u001b[0m\n\u001b[0;32m----> 2\u001b[0;31m \u001b[0;32mimport\u001b[0m \u001b[0mpytorch\u001b[0m \u001b[0;32mas\u001b[0m \u001b[0mtorch\u001b[0m\u001b[0;34m\u001b[0m\u001b[0;34m\u001b[0m\u001b[0m\n\u001b[0m\u001b[1;32m      3\u001b[0m \u001b[0;32mimport\u001b[0m \u001b[0mrandom\u001b[0m\u001b[0;34m\u001b[0m\u001b[0;34m\u001b[0m\u001b[0m\n",
      "\u001b[0;31mModuleNotFoundError\u001b[0m: No module named 'pytorch'"
     ]
    }
   ],
   "source": [
    "import numpy as np\n",
    "import pytorch as torch\n",
    "import random"
   ]
  },
  {
   "cell_type": "code",
   "execution_count": 11,
   "metadata": {},
   "outputs": [],
   "source": [
    "class World:\n",
    "  def __init__(self, n, num_tasks):\n",
    "    # Initialize nxn map \n",
    "    self.n = n\n",
    "    self.num_tasks = num_tasks\n",
    "    \n",
    "    # Generate blank map\n",
    "    world_map = np.zeros(n*n)\n",
    "    # Add tasks at front\n",
    "    world_map[:num_tasks] = 1\n",
    "    # Randomly shuffle the tasks in \n",
    "    np.random.shuffle(world_map)\n",
    "    # Make map the right dimensions\n",
    "    world_map = world_map.reshape((n, n))\n",
    "    \n",
    "    self.map = world_map\n",
    "  def check_task_accomplished(self, location):\n",
    "    pass\n",
    "  def do_task(self, location):\n",
    "    pass\n"
   ]
  },
  {
   "cell_type": "code",
   "execution_count": 12,
   "metadata": {},
   "outputs": [
    {
     "name": "stdout",
     "output_type": "stream",
     "text": [
      "[[0. 0. 0. 0. 0.]\n",
      " [0. 0. 0. 0. 0.]\n",
      " [1. 0. 0. 0. 0.]\n",
      " [0. 0. 0. 0. 1.]\n",
      " [0. 0. 0. 0. 0.]]\n"
     ]
    }
   ],
   "source": [
    "a = World(5, 2)\n",
    "print(a.map)"
   ]
  },
  {
   "cell_type": "code",
   "execution_count": null,
   "metadata": {},
   "outputs": [],
   "source": [
    "class Agent:\n",
    "  model = Model()\n",
    "  \n",
    "  def __init__(self, id, world, vision_radius=3):\n",
    "    self.id = id\n",
    "    self.world = world\n",
    "    self.alive = True\n",
    "    self.location = (0,0) #change later\n",
    "    self.vision_radius = vision_radius\n",
    "\n",
    "  def get_action():\n",
    "    pass\n",
    "\n",
    "  def update_location(move_action):\n",
    "    # 0: up\n",
    "    # 1: up + right\n",
    "    # 2: right\n",
    "    # 3: down + right\n",
    "    # 4: down\n",
    "    # 5: down + left\n",
    "    # 6: left\n",
    "    # 7: left + up\n",
    "    # Move, but stay in bounds\n",
    "    if move_action == 0 or move_action == 1 or move_action == 7:\n",
    "        self.location[1] = max(0, self.location[1]-1) \n",
    "    if move_action >= 1 and move_action <= 3:\n",
    "        self.location[0] = min(self.world.n-1, self.location[0]+1)\n",
    "    if move_action >= 3 and move_action <= 5:\n",
    "        self.location[1] = min(self.world.n-1, self.location[1]+1)\n",
    "    if move_action >= 5 and move_action <= 7:\n",
    "        self.location[0] = max(0, self.location[0]-1)\n",
    "    return self.location\n",
    "    \n",
    "\n",
    "class Crewmate(Agent):\n",
    "  def __init__(self, id, world, vision_radius=3):\n",
    "    super().__init__(id, world, vision_radius)\n",
    "\n",
    "class Impostor(Agent):\n",
    "  def __init__(self, id, world, vision_radius=3, kill_distance=1):\n",
    "    super().__init__(id, world, vision_radius)\n",
    "    self.kill_distance = kill_distance\n",
    "\n",
    "class Game:\n",
    "  def __init__(self, map_size, num_tasks, num_agents, max_steps):\n",
    "    self.n = map_size\n",
    "    self.t = num_tasks\n",
    "    self.num_agents = num_agents\n",
    "    self.max_steps = max_steps\n",
    "    #Arbitrary numbers\n",
    "    self.kill_distance = 1\n",
    "    self.agent_vision_radius = 3\n",
    "    self.task_reward = 3\n",
    "    self.reset()\n",
    "\n",
    "  def reset(self):\n",
    "    # Generate a new world\n",
    "    self.world = World(self.n, self.t)\n",
    "    # Make all but one crewmates\n",
    "    self.impostor_index = random.randint(0, self.num_agents-1)\n",
    "    self.agents = []\n",
    "    for i in range(self.num_agents):\n",
    "        if i == self.impostor_index:\n",
    "            self.agents.append(Impostor(i, self.world, self.agent_vision_radius, self.kill_distance))\n",
    "        else:\n",
    "            self.agents.append(Crewmate(i, self.world, self.agent_vision_radius))\n",
    "    # Whether the game is ongoing\n",
    "    self.ongoing = True\n",
    "    self.num_steps = 0\n",
    "  \n",
    "  def step(self):\n",
    "    # This function returns the new observation for each agent,\n",
    "    # The reward they got,\n",
    "    # Whether the game is done \n",
    "    to_kill = None\n",
    "    rewards = np.zeroes(num_agents)\n",
    "    \n",
    "    for agent in self.agents:\n",
    "        # Dead agents cannot do anything\n",
    "        if not agent.alive:\n",
    "            continue \n",
    "        action = agent.get_action()\n",
    "        # Assume action to be a row vector \n",
    "        # Index 0 represents kill(0) or move(1)\n",
    "        # Index 1 represents which direction to move\n",
    "        # Index 2 represents who to kill\n",
    "        # Remainder of the k*(n-1) indices represent messages to each other agent\n",
    "        if action[0] == 0:\n",
    "            # Only the impostor can kill someone else \n",
    "            if agent.id != self.impostor_index:\n",
    "                continue\n",
    "            # We are killing this person, they die in the next round\n",
    "            to_kill = action[2]\n",
    "            can_kill = check_proximity(to_kill) #implement checking that the person is close enough to kill\n",
    "            if can_kill:\n",
    "                rewards[agent.]\n",
    "            else:\n",
    "                to_kill = None\n",
    "        if action[0] == 1:\n",
    "            # We are moving\n",
    "            new_location = agent.update_location(action[1])\n",
    "            task_done = self.world.check_task_accomplished(new_location)\n",
    "            if task_done:\n",
    "                rewards[agent.id] = self.task_reward    \n",
    "    \n",
    "    self.num_steps += 1\n",
    "    if self.num_steps >= self.max_steps:\n",
    "        self.ongoing = False\n",
    "        \n",
    "    pass\n",
    "\n",
    "  def get_observation(self, agent):\n",
    "    # Get a 2*vision_radius+1 size square representing what the agent can see\n",
    "    pass\n",
    "\n",
    "  def generate_agent_rewards(self, agent):\n",
    "    # If the agent is an crewmate in the square and the task was just done,\n",
    "    # award the agent for doing the task\n",
    "    # If the agent is an impostor and they just killed someone, award the agent \n",
    "    # for killing them\n",
    "    \n",
    "    \n",
    "    pass\n",
    "  \n",
    "  def generate_rewards(self):\n",
    "    rewards = []\n",
    "    for agent in self.agents:\n",
    "        rewards.append(generate_agent_rewards(agent))\n",
    "    return np.array(rewards)\n",
    "\n",
    "  def transition(self, actions):\n",
    "    # Transition the world state, where actions is \n",
    "    # an array of the actions of each agent \n",
    "    # Actions are move or kill \n",
    "    \n",
    "    pass\n",
    "    \n",
    "  \n",
    "  \n",
    "class Model():\n",
    "  pass"
   ]
  },
  {
   "cell_type": "code",
   "execution_count": 1,
   "metadata": {},
   "outputs": [],
   "source": [
    "import sys"
   ]
  },
  {
   "cell_type": "code",
   "execution_count": 3,
   "metadata": {},
   "outputs": [
    {
     "data": {
      "text/plain": [
       "['/data/rsg/nlp/juanmoo1/projects/04_amongus/among_us_project',\n",
       " '/data/rsg/nlp/juanmoo1/miniconda2/envs/amongus/lib/python37.zip',\n",
       " '/data/rsg/nlp/juanmoo1/miniconda2/envs/amongus/lib/python3.7',\n",
       " '/data/rsg/nlp/juanmoo1/miniconda2/envs/amongus/lib/python3.7/lib-dynload',\n",
       " '',\n",
       " '/data/rsg/nlp/juanmoo1/miniconda2/envs/amongus/lib/python3.7/site-packages',\n",
       " '/data/rsg/nlp/juanmoo1/miniconda2/envs/amongus/lib/python3.7/site-packages/IPython/extensions',\n",
       " '/data/rsg/nlp/juanmoo1/.ipython']"
      ]
     },
     "execution_count": 3,
     "metadata": {},
     "output_type": "execute_result"
    }
   ],
   "source": [
    "sys.path"
   ]
  },
  {
   "cell_type": "code",
   "execution_count": null,
   "metadata": {},
   "outputs": [],
   "source": []
  }
 ],
 "metadata": {
  "kernelspec": {
   "display_name": "Python 3",
   "language": "python",
   "name": "python3"
  },
  "language_info": {
   "codemirror_mode": {
    "name": "ipython",
    "version": 3
   },
   "file_extension": ".py",
   "mimetype": "text/x-python",
   "name": "python",
   "nbconvert_exporter": "python",
   "pygments_lexer": "ipython3",
   "version": "3.7.9"
  }
 },
 "nbformat": 4,
 "nbformat_minor": 4
}

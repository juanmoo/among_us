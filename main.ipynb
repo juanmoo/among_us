{
 "cells": [
  {
   "cell_type": "code",
   "execution_count": 13,
   "metadata": {},
   "outputs": [],
   "source": [
    "# Import Project\n",
    "import sys\n",
    "sys.path.append('.')\n",
    "from amongus.agent import *\n",
    "from amongus.game import *\n",
    "from amongus.model import *\n",
    "from amongus.world import *\n",
    "\n",
    "# External Packages\n",
    "import numpy as np\n",
    "import torch"
   ]
  },
  {
   "cell_type": "code",
   "execution_count": 14,
   "metadata": {},
   "outputs": [],
   "source": [
    "map_size = 11\n",
    "num_tasks = 5\n",
    "num_agents = 5\n",
    "max_steps = 200\n",
    "\n",
    "game = Game(map_size, num_tasks, num_agents, max_steps)"
   ]
  },
  {
   "cell_type": "code",
   "execution_count": 15,
   "metadata": {},
   "outputs": [
    {
     "name": "stdout",
     "output_type": "stream",
     "text": [
      "[[  0.   0.   0.   0.   1.   0.   0.   0.   0.   1.   0.]\n",
      " [  0.   0.   0.   0.   0.   0.   0.   0.   0.   0.   0.]\n",
      " [  0.   0.   0.   0.   0.   0.   1.   0.   0.   0.   1.]\n",
      " [  0.   0.   0.   0.   0.   0.   0.   0.   0.   0.   0.]\n",
      " [  0.   0.   0.   0.   0.   0.   0.   0.   0.   0.   0.]\n",
      " [  0.   0.   0.   0.   0.   0.   0.   0.   0.   0.   0.]\n",
      " [  0.   0.   0.   0.   0.   0.   0.   0. 104.   0.   0.]\n",
      " [  0.   0.   0.   0.   0.   0. 100.   0.   0.   0.   0.]\n",
      " [  0.   0.   0. 102.   0.   0.   0.   0.   0.   0.   0.]\n",
      " [  0. 103.   0.   0.   0.   0.   0.   0.   0.   0.   0.]\n",
      " [  0. 101.   0.   0.   0.   0.   0.   1.   0.   0.   0.]]\n"
     ]
    }
   ],
   "source": [
    "print(game.world)"
   ]
  },
  {
   "cell_type": "code",
   "execution_count": 16,
   "metadata": {},
   "outputs": [
    {
     "name": "stdout",
     "output_type": "stream",
     "text": [
      "--------------------------------------------------------------------\n",
      "|     |     |     |     |  G  |     |     |     |     |  G  |     |\n",
      "--------------------------------------------------------------------\n",
      "|     |     |     |     |     |     |     |     |     |     |     |\n",
      "--------------------------------------------------------------------\n",
      "|     |     |     |     |     |     |  G  |     |     |     |  G  |\n",
      "--------------------------------------------------------------------\n",
      "|     |     |     |     |     |     |     |     |     |     |     |\n",
      "--------------------------------------------------------------------\n",
      "|     |     |     |     |     |     |     |     |     |     |     |\n",
      "--------------------------------------------------------------------\n",
      "|     |     |     |     |     |     |     |     |     |     |     |\n",
      "--------------------------------------------------------------------\n",
      "|     |     |     |     |     |     |     |     | A4  |     |     |\n",
      "--------------------------------------------------------------------\n",
      "|     |     |     |     |     |     | A0  |     |     |     |     |\n",
      "--------------------------------------------------------------------\n",
      "|     |     |     | A2  |     |     |     |     |     |     |     |\n",
      "--------------------------------------------------------------------\n",
      "|     | A3  |     |     |     |     |     |     |     |     |     |\n",
      "--------------------------------------------------------------------\n",
      "|     | A1  |     |     |     |     |     |  G  |     |     |     |\n",
      "--------------------------------------------------------------------\n",
      "\n"
     ]
    }
   ],
   "source": [
    "print(game)"
   ]
  },
  {
   "cell_type": "code",
   "execution_count": 17,
   "metadata": {},
   "outputs": [
    {
     "data": {
      "text/plain": [
       "[ID: 0, Role: Impostor, Location: (7, 6),\n",
       " ID: 1, Role: Crewmate, Location: (10, 1),\n",
       " ID: 2, Role: Crewmate, Location: (8, 3),\n",
       " ID: 3, Role: Crewmate, Location: (9, 1),\n",
       " ID: 4, Role: Crewmate, Location: (6, 8)]"
      ]
     },
     "execution_count": 17,
     "metadata": {},
     "output_type": "execute_result"
    }
   ],
   "source": [
    "game.agents"
   ]
  },
  {
   "cell_type": "code",
   "execution_count": null,
   "metadata": {},
   "outputs": [],
   "source": []
  }
 ],
 "metadata": {
  "kernelspec": {
   "display_name": "Python 3",
   "language": "python",
   "name": "python3"
  },
  "language_info": {
   "codemirror_mode": {
    "name": "ipython",
    "version": 3
   },
   "file_extension": ".py",
   "mimetype": "text/x-python",
   "name": "python",
   "nbconvert_exporter": "python",
   "pygments_lexer": "ipython3",
   "version": "3.7.9"
  }
 },
 "nbformat": 4,
 "nbformat_minor": 4
}

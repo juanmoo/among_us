{
 "cells": [
  {
   "cell_type": "code",
   "execution_count": 1,
   "metadata": {},
   "outputs": [],
   "source": [
    "# Import Project\n",
    "import sys\n",
    "sys.path.append('.')\n",
    "from amongus.agent import *\n",
    "from amongus.game import *\n",
    "from amongus.model import *\n",
    "from amongus.world import *\n",
    "\n",
    "# External Packages\n",
    "import numpy as np\n",
    "import torch"
   ]
  },
  {
   "cell_type": "code",
   "execution_count": 7,
   "metadata": {},
   "outputs": [],
   "source": [
    "map_size = 100\n",
    "num_tasks = 10\n",
    "num_agents = 20\n",
    "max_steps = 1000\n",
    "message_length = 1\n",
    "\n",
    "params = {\n",
    "    'vote_period': 5,\n",
    "    'impostor_frac': 0.2,\n",
    "    'message_length': message_length\n",
    "}"
   ]
  },
  {
   "cell_type": "code",
   "execution_count": 8,
   "metadata": {},
   "outputs": [],
   "source": [
    "def sample():\n",
    "    game = Game(map_size, num_tasks, num_agents, max_steps, params=params)\n",
    "    model = Model(num_agents, message_length)\n",
    "    o_t = game.get_observations()\n",
    "    a_t = game.get_actions(model, o_t)\n",
    "    game.reset()\n",
    "    ongoing = True\n",
    "\n",
    "    count = 0\n",
    "    while ongoing:\n",
    "        o_t, r_t, ongoing = game.step(a_t)\n",
    "        a_t = game.get_actions(model, o_t)\n",
    "        count += 1\n",
    "\n",
    "    return count, game.win_condition"
   ]
  },
  {
   "cell_type": "code",
   "execution_count": null,
   "metadata": {},
   "outputs": [
    {
     "name": "stderr",
     "output_type": "stream",
     "text": [
      " 47%|████▋     | 47/100 [00:14<00:13,  3.87it/s]"
     ]
    }
   ],
   "source": [
    "from time import time\n",
    "from tqdm import tqdm\n",
    "\n",
    "start = time()\n",
    "samples = []\n",
    "for _ in tqdm(range(100)):\n",
    "    samples.append(sample())\n",
    "# samples = [sample() for _ in range(100)]\n",
    "elapsed = time() - start\n",
    "\n",
    "print('Average Game Time: {}'.format(elapsed/1000.0))"
   ]
  },
  {
   "cell_type": "code",
   "execution_count": null,
   "metadata": {},
   "outputs": [],
   "source": [
    "counts, outcomes = zip(*samples)\n",
    "\n",
    "freq = {e: outcomes.count(e) for e in set(outcomes)}\n",
    "print(freq)"
   ]
  },
  {
   "cell_type": "code",
   "execution_count": 11,
   "metadata": {},
   "outputs": [
    {
     "data": {
      "image/png": "[encoded data removed]",
      "text/plain": [
       "<Figure size 432x288 with 1 Axes>"
      ]
     },
     "metadata": {
      "needs_background": "light"
     },
     "output_type": "display_data"
    }
   ],
   "source": [
    "from matplotlib import pyplot as plt\n",
    "\n",
    "plt.hist(counts, bins=20)\n",
    "plt.show()"
   ]
  },
  {
   "cell_type": "code",
   "execution_count": 12,
   "metadata": {},
   "outputs": [],
   "source": [
    "nums = sorted(list(set(counts)))\n",
    "counts = [counts.count(n) for n in nums]"
   ]
  },
  {
   "cell_type": "code",
   "execution_count": 14,
   "metadata": {},
   "outputs": [
    {
     "data": {
      "text/plain": [
       "<BarContainer object of 61 artists>"
      ]
     },
     "execution_count": 14,
     "metadata": {},
     "output_type": "execute_result"
    },
    {
     "data": {
      "image/png": "[encoded data removed]",
      "text/plain": [
       "<Figure size 432x288 with 1 Axes>"
      ]
     },
     "metadata": {
      "needs_background": "light"
     },
     "output_type": "display_data"
    }
   ],
   "source": [
    "plt.bar(nums, counts)"
   ]
  },
  {
   "cell_type": "code",
   "execution_count": 6,
   "metadata": {},
   "outputs": [
    {
     "data": {
      "text/plain": [
       "array([8, 5])"
      ]
     },
     "execution_count": 6,
     "metadata": {},
     "output_type": "execute_result"
    }
   ],
   "source": [
    "num_agents = 10\n",
    "impostor_frac = 0.2\n",
    "\n",
    "rng = np.random.default_rng()\n",
    "rng.choice(num_agents, size=max(int(num_agents * impostor_frac), 1), replace=False)"
   ]
  },
  {
   "cell_type": "code",
   "execution_count": 8,
   "metadata": {},
   "outputs": [
    {
     "data": {
      "text/plain": [
       "24.058"
      ]
     },
     "execution_count": 8,
     "metadata": {},
     "output_type": "execute_result"
    }
   ],
   "source": [
    "samples = np.array(samples)\n",
    "samples.mean()"
   ]
  },
  {
   "cell_type": "code",
   "execution_count": null,
   "metadata": {},
   "outputs": [],
   "source": []
  }
 ],
 "metadata": {
  "kernelspec": {
   "display_name": "Python 3",
   "language": "python",
   "name": "python3"
  },
  "language_info": {
   "codemirror_mode": {
    "name": "ipython",
    "version": 3
   },
   "file_extension": ".py",
   "mimetype": "text/x-python",
   "name": "python",
   "nbconvert_exporter": "python",
   "pygments_lexer": "ipython3",
   "version": "3.7.9"
  }
 },
 "nbformat": 4,
 "nbformat_minor": 4
}

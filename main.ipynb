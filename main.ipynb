{
 "cells": [
  {
   "cell_type": "code",
   "execution_count": 1,
   "metadata": {},
   "outputs": [],
   "source": [
    "# Import Project\n",
    "import sys\n",
    "sys.path.append('.')\n",
    "from amongus.agent import *\n",
    "from amongus.game import *\n",
    "from amongus.model import *\n",
    "from amongus.world import *\n",
    "\n",
    "# External Packages\n",
    "import numpy as np\n",
    "import torch"
   ]
  },
  {
   "cell_type": "code",
   "execution_count": 2,
   "metadata": {},
   "outputs": [],
   "source": [
    "map_size = 10\n",
    "num_tasks = 5\n",
    "num_agents = 10\n",
    "max_steps = 100\n",
    "message_length = 1\n",
    "\n",
    "game = Game(map_size, num_tasks, num_agents, max_steps, 5)\n",
    "model = Model(num_agents, message_length)"
   ]
  },
  {
   "cell_type": "code",
   "execution_count": 3,
   "metadata": {},
   "outputs": [
    {
     "name": "stdout",
     "output_type": "stream",
     "text": [
      "Game finished in 65 steps\n"
     ]
    }
   ],
   "source": [
    "o_t = game.get_observations()\n",
    "a_t = game.get_actions(model, o_t)\n",
    "ongoing = True\n",
    "\n",
    "count = 0\n",
    "while ongoing:\n",
    "    o_t, r_t, ongoing = game.step(a_t)\n",
    "    a_t = game.get_actions(model, o_t)\n",
    "    count += 1\n",
    "    \n",
    "print('Game finished in {} steps'.format(count))"
   ]
  },
  {
   "cell_type": "code",
   "execution_count": null,
   "metadata": {},
   "outputs": [],
   "source": []
  }
 ],
 "metadata": {
  "kernelspec": {
   "display_name": "Python 3",
   "language": "python",
   "name": "python3"
  },
  "language_info": {
   "codemirror_mode": {
    "name": "ipython",
    "version": 3
   },
   "file_extension": ".py",
   "mimetype": "text/x-python",
   "name": "python",
   "nbconvert_exporter": "python",
   "pygments_lexer": "ipython3",
   "version": "3.7.9"
  }
 },
 "nbformat": 4,
 "nbformat_minor": 4
}

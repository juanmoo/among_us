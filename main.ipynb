{
 "cells": [
  {
   "cell_type": "code",
   "execution_count": 1,
   "metadata": {},
   "outputs": [],
   "source": [
    "# Import Project\n",
    "import sys\n",
    "sys.path.append('.')\n",
    "from amongus.agent import *\n",
    "from amongus.game import *\n",
    "from amongus.model import *\n",
    "from amongus.world import *\n",
    "\n",
    "# External Packages\n",
    "import numpy as np\n",
    "import torch"
   ]
  },
  {
   "cell_type": "code",
   "execution_count": 2,
   "metadata": {},
   "outputs": [],
   "source": [
    "map_size = 10\n",
    "num_tasks = 5\n",
    "num_agents = 5\n",
    "max_steps = 200\n",
    "\n",
    "game = Game(map_size, num_tasks, num_agents, max_steps)"
   ]
  },
  {
   "cell_type": "code",
   "execution_count": 3,
   "metadata": {},
   "outputs": [
    {
     "name": "stdout",
     "output_type": "stream",
     "text": [
      "[[0. 0. 0. 0. 1. 0. 0. 0. 0. 0.]\n",
      " [0. 0. 0. 0. 0. 0. 0. 0. 0. 1.]\n",
      " [0. 0. 0. 0. 0. 0. 0. 0. 0. 0.]\n",
      " [0. 0. 0. 1. 0. 0. 0. 0. 0. 0.]\n",
      " [0. 1. 0. 0. 0. 0. 0. 0. 0. 0.]\n",
      " [0. 0. 0. 0. 0. 0. 0. 1. 0. 0.]\n",
      " [0. 0. 0. 0. 0. 0. 0. 0. 0. 0.]\n",
      " [0. 0. 0. 0. 0. 0. 0. 0. 0. 0.]\n",
      " [0. 0. 0. 0. 0. 0. 0. 0. 0. 0.]\n",
      " [0. 0. 0. 0. 0. 0. 0. 0. 0. 0.]]\n"
     ]
    }
   ],
   "source": [
    "print(game.world)"
   ]
  },
  {
   "cell_type": "code",
   "execution_count": 4,
   "metadata": {},
   "outputs": [
    {
     "name": "stdout",
     "output_type": "stream",
     "text": [
      "------------------------------------------\n",
      "|   |   |   |   | G |   |   |   |   |   |\n",
      "------------------------------------------\n",
      "|   |   |   |   |   |   |   |   |   | C |\n",
      "------------------------------------------\n",
      "|   |   |   |   |   |   |   |   |   |   |\n",
      "------------------------------------------\n",
      "|   |   |   | G |   |   |   |   |   |   |\n",
      "------------------------------------------\n",
      "|   | G |   |   |   |   |   |   | C |   |\n",
      "------------------------------------------\n",
      "|   |   |   |   |   |   |   | G |   |   |\n",
      "------------------------------------------\n",
      "|   |   |   |   |   | I |   |   |   |   |\n",
      "------------------------------------------\n",
      "| C |   |   |   |   |   |   |   |   |   |\n",
      "------------------------------------------\n",
      "|   |   |   |   |   |   |   |   |   | C |\n",
      "------------------------------------------\n",
      "|   |   |   |   |   |   |   |   |   |   |\n",
      "------------------------------------------\n",
      "\n"
     ]
    }
   ],
   "source": [
    "print(game)"
   ]
  },
  {
   "cell_type": "code",
   "execution_count": 6,
   "metadata": {},
   "outputs": [
    {
     "data": {
      "text/plain": [
       "[ID: 0, Role: Impostor, Location: (8, 8),\n",
       " ID: 1, Role: Crewmate, Location: (6, 0),\n",
       " ID: 2, Role: Crewmate, Location: (2, 3),\n",
       " ID: 3, Role: Crewmate, Location: (7, 8),\n",
       " ID: 4, Role: Crewmate, Location: (7, 7)]"
      ]
     },
     "execution_count": 6,
     "metadata": {},
     "output_type": "execute_result"
    }
   ],
   "source": [
    "game.agents"
   ]
  }
 ],
 "metadata": {
  "kernelspec": {
   "display_name": "Python 3",
   "language": "python",
   "name": "python3"
  },
  "language_info": {
   "codemirror_mode": {
    "name": "ipython",
    "version": 3
   },
   "file_extension": ".py",
   "mimetype": "text/x-python",
   "name": "python",
   "nbconvert_exporter": "python",
   "pygments_lexer": "ipython3",
   "version": "3.7.9"
  }
 },
 "nbformat": 4,
 "nbformat_minor": 4
}
